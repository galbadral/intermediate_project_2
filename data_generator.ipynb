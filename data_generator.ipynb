{
 "cells": [
  {
   "cell_type": "code",
   "execution_count": 1,
   "id": "878fd714-6b97-4f2c-b69c-73cb13ac5abb",
   "metadata": {},
   "outputs": [],
   "source": [
    "import pandas as pd"
   ]
  },
  {
   "cell_type": "code",
   "execution_count": 14,
   "id": "1b6b68a7-904f-48eb-8bf3-9f2b9bc278f1",
   "metadata": {},
   "outputs": [],
   "source": [
    "df = pd.read_csv(\"popu.csv\")"
   ]
  },
  {
   "cell_type": "code",
   "execution_count": 15,
   "id": "676b86d7-7392-4de7-bce8-6971d4320bcf",
   "metadata": {},
   "outputs": [],
   "source": [
    "df_only_rate= df.drop(['Country Name','Country Code'], axis=1)"
   ]
  },
  {
   "cell_type": "code",
   "execution_count": 78,
   "id": "c06cf0dc-58c6-4cbc-9d64-df4993a0ce7e",
   "metadata": {
    "tags": []
   },
   "outputs": [],
   "source": [
    "for i in range(len(df)):\n",
    "    data={}\n",
    "    year=[]\n",
    "    rate=[]\n",
    "    for y in df_only_rate.columns:\n",
    "        t_rate = df[y][i]\n",
    "        rate += [t_rate]\n",
    "        year += [y]\n",
    "\n",
    "    data['year']=year\n",
    "    data['population']=rate\n",
    "    df_one_country=pd.DataFrame(data)\n",
    "    df_one_country   \n",
    "    df_one_country.to_csv(r'C:\\Users\\Galbadral\\Downloads\\Intermediate python proejct 2\\countries_popu\\\\'+str(df['Country Code'][i])+'.csv', index=False)"
   ]
  },
  {
   "cell_type": "code",
   "execution_count": 5,
   "id": "285eeeeb-749e-4426-b39f-bfac6d5d2bc5",
   "metadata": {
    "jupyter": {
     "source_hidden": true
    },
    "tags": []
   },
   "outputs": [],
   "source": [
    "for i in range(len(df)):\n",
    "    data={}\n",
    "    year=[]\n",
    "    rate=[]\n",
    "    for y in df_only_rate.columns:\n",
    "        t_rate = df[y][i]\n",
    "        rate += [t_rate]\n",
    "        year += [y]\n",
    "\n",
    "    data['year']=year\n",
    "    data['population']=rate\n",
    "    df_one_country=pd.DataFrame(data)\n",
    "    df_one_country   \n",
    "    df_one_country.to_csv(r'C:\\Users\\Galbadral\\Downloads\\Intermediate python proejct 2\\countries_population_10\\\\'+str(df['Country Code'][i])+'.csv', index=False)"
   ]
  },
  {
   "cell_type": "code",
   "execution_count": 7,
   "id": "d3e7e51b-5765-44c4-911a-2657a7221557",
   "metadata": {
    "jupyter": {
     "source_hidden": true
    },
    "tags": []
   },
   "outputs": [],
   "source": [
    "for i in range(len(df)):\n",
    "    data={}\n",
    "    year=[]\n",
    "    rate=[]\n",
    "    for y in df_only_rate.columns:\n",
    "        t_rate = df[y][i]\n",
    "        rate += [t_rate]\n",
    "        year += [y]\n",
    "\n",
    "    data['year']=year\n",
    "    data['population']=rate\n",
    "    df_one_country=pd.DataFrame(data)\n",
    "    df_one_country   \n",
    "    df_one_country.to_csv(r'C:\\Users\\Galbadral\\Downloads\\Intermediate python proejct 2\\countries_population_mean\\\\'+str(df['Country Code'][i])+'.csv', index=False)"
   ]
  },
  {
   "cell_type": "code",
   "execution_count": null,
   "id": "402e4210-983b-4c68-91fe-ae4c8f84c752",
   "metadata": {
    "jupyter": {
     "source_hidden": true
    },
    "tags": []
   },
   "outputs": [],
   "source": [
    "for i in range(len(df)):\n",
    "    data={}\n",
    "    year=[]\n",
    "    rate=[]\n",
    "    for y in df_only_rate.columns:\n",
    "        t_rate = df[y][i]\n",
    "        rate += [t_rate]\n",
    "        year += [y]\n",
    "\n",
    "    data['year']=year\n",
    "    data['population']=rate\n",
    "    df_one_country=pd.DataFrame(data)\n",
    "    df_one_country   \n",
    "    df_one_country.to_csv(r'C:\\Users\\Galbadral\\Downloads\\Intermediate python proejct 2\\countries_population_real\\\\'+str(df['Country Code'][i])+'.csv', index=False)"
   ]
  },
  {
   "cell_type": "code",
   "execution_count": 16,
   "id": "de34c34a-0dc7-440e-b6a7-fbaf840eb22f",
   "metadata": {},
   "outputs": [],
   "source": [
    "for i in range(len(df)):\n",
    "    data={}\n",
    "    year=[]\n",
    "    rate=[]\n",
    "    for y in df_only_rate.columns:\n",
    "        t_rate = df[y][i]\n",
    "        rate += [t_rate]\n",
    "        year += [y]\n",
    "\n",
    "    data['year']=year\n",
    "    data['population']=rate\n",
    "    df_one_country=pd.DataFrame(data)\n",
    "    df_one_country   \n",
    "    df_one_country.to_csv(r'C:\\Users\\Galbadral\\Downloads\\Intermediate python proejct 2\\countries_population_last\\\\'+str(df['Country Code'][i])+'.csv', index=False)"
   ]
  },
  {
   "cell_type": "code",
   "execution_count": 9,
   "id": "fd243135-83b2-4523-9511-a5dfb638d792",
   "metadata": {},
   "outputs": [],
   "source": [
    "df_2 = pd.read_csv(\"fertility-rate.csv\")"
   ]
  },
  {
   "cell_type": "code",
   "execution_count": 10,
   "id": "cfa7956e-00a0-41e1-8257-96f7fb569f1f",
   "metadata": {},
   "outputs": [],
   "source": [
    "df_only_rate_2= df.drop(['Country Name','Country Code'], axis=1)"
   ]
  },
  {
   "cell_type": "code",
   "execution_count": 12,
   "id": "69034526-238a-4e13-b30b-a7ca15d0c179",
   "metadata": {},
   "outputs": [],
   "source": [
    "for i in range(len(df_2)):\n",
    "    data={}\n",
    "    year=[]\n",
    "    rate=[]\n",
    "    for y in df_only_rate_2.columns:\n",
    "        t_rate = df_2[y][i]\n",
    "        rate += [t_rate]\n",
    "        year += [y]\n",
    "\n",
    "    data['year']=year\n",
    "    data['fertility']=rate\n",
    "    df_one_country=pd.DataFrame(data)\n",
    "    df_one_country   \n",
    "    df_one_country.to_csv(r'C:\\Users\\Galbadral\\Downloads\\Intermediate python proejct 2\\countries_frate\\\\'+str(df_2['Country Code'][i])+'.csv', index=False)"
   ]
  },
  {
   "cell_type": "code",
   "execution_count": null,
   "id": "cc9cfc68-573c-446f-a91a-bf470e198185",
   "metadata": {},
   "outputs": [],
   "source": []
  }
 ],
 "metadata": {
  "kernelspec": {
   "display_name": "Python 3 (ipykernel)",
   "language": "python",
   "name": "python3"
  },
  "language_info": {
   "codemirror_mode": {
    "name": "ipython",
    "version": 3
   },
   "file_extension": ".py",
   "mimetype": "text/x-python",
   "name": "python",
   "nbconvert_exporter": "python",
   "pygments_lexer": "ipython3",
   "version": "3.8.13"
  }
 },
 "nbformat": 4,
 "nbformat_minor": 5
}
